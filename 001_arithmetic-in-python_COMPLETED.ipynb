{
 "cells": [
  {
   "cell_type": "markdown",
   "metadata": {},
   "source": [
    "# I. Numbers, Truncation and Babylonians: Arithmetic in Python\n",
    "\n",
    "## Basic Arithmetic\n",
    "\n",
    "Pyhon can perform basic arithmetic operations:\n",
    "- *Addition*: $a+b$ is written `a + b`.\n",
    "- *Subtraction*: $a-b$ is written `a - b`.\n",
    "- *Multiplication*: $a\\times b$ is written `a * b`.\n",
    "- *Division*: $a\\div b$ is written `a / b`.\n",
    "- *Exponentiation*: $a^b$ is written `a ** b` &mdash; **not** `a ^ b`!\n",
    "- *Remainder*: $a\\bmod b$ is written `a % b`.\n",
    "- *Absolute value* function: $|a|$ is written `abs(a)`.\n",
    "\n",
    "**Example:** Calculate $1+6$."
   ]
  },
  {
   "cell_type": "code",
   "execution_count": 1,
   "metadata": {},
   "outputs": [
    {
     "data": {
      "text/plain": [
       "7"
      ]
     },
     "execution_count": 1,
     "metadata": {},
     "output_type": "execute_result"
    }
   ],
   "source": [
    "1+6"
   ]
  },
  {
   "cell_type": "markdown",
   "metadata": {},
   "source": [
    "**Example:** Calculate $3-5$."
   ]
  },
  {
   "cell_type": "code",
   "execution_count": 2,
   "metadata": {},
   "outputs": [
    {
     "data": {
      "text/plain": [
       "-2"
      ]
     },
     "execution_count": 2,
     "metadata": {},
     "output_type": "execute_result"
    }
   ],
   "source": [
    "3-5"
   ]
  },
  {
   "cell_type": "markdown",
   "metadata": {},
   "source": [
    "**Example:** Calculate $7\\times 3$."
   ]
  },
  {
   "cell_type": "code",
   "execution_count": 3,
   "metadata": {},
   "outputs": [
    {
     "data": {
      "text/plain": [
       "21"
      ]
     },
     "execution_count": 3,
     "metadata": {},
     "output_type": "execute_result"
    }
   ],
   "source": [
    "7*3"
   ]
  },
  {
   "cell_type": "markdown",
   "metadata": {},
   "source": [
    "**Example:** Calculate $12\\div 4$."
   ]
  },
  {
   "cell_type": "code",
   "execution_count": 4,
   "metadata": {},
   "outputs": [
    {
     "data": {
      "text/plain": [
       "3.0"
      ]
     },
     "execution_count": 4,
     "metadata": {},
     "output_type": "execute_result"
    }
   ],
   "source": [
    "12/4"
   ]
  },
  {
   "cell_type": "markdown",
   "metadata": {},
   "source": [
    "Note that division returns a decimal number, not an integer! This is a feature of Python 3; division used to work differently in Python 2. Always check you have the right version."
   ]
  },
  {
   "cell_type": "code",
   "execution_count": 5,
   "metadata": {},
   "outputs": [
    {
     "data": {
      "text/plain": [
       "3.142857142857143"
      ]
     },
     "execution_count": 5,
     "metadata": {},
     "output_type": "execute_result"
    }
   ],
   "source": [
    "22/7"
   ]
  },
  {
   "cell_type": "markdown",
   "metadata": {},
   "source": [
    "In programming, the representation of a decimal number is called a floating-point number &mdash; `float` for short. An integer is something different &mdash; an `int`."
   ]
  },
  {
   "cell_type": "code",
   "execution_count": 6,
   "metadata": {},
   "outputs": [
    {
     "data": {
      "text/plain": [
       "int"
      ]
     },
     "execution_count": 6,
     "metadata": {},
     "output_type": "execute_result"
    }
   ],
   "source": [
    "type(3)"
   ]
  },
  {
   "cell_type": "code",
   "execution_count": 7,
   "metadata": {},
   "outputs": [
    {
     "data": {
      "text/plain": [
       "float"
      ]
     },
     "execution_count": 7,
     "metadata": {},
     "output_type": "execute_result"
    }
   ],
   "source": [
    "type(3.0)"
   ]
  },
  {
   "cell_type": "markdown",
   "metadata": {},
   "source": [
    "Most arithmetic in python works indistinguishably for floats and ints."
   ]
  },
  {
   "cell_type": "code",
   "execution_count": 8,
   "metadata": {},
   "outputs": [
    {
     "data": {
      "text/plain": [
       "3.0"
      ]
     },
     "execution_count": 8,
     "metadata": {},
     "output_type": "execute_result"
    }
   ],
   "source": [
    "12/4"
   ]
  },
  {
   "cell_type": "code",
   "execution_count": 9,
   "metadata": {},
   "outputs": [
    {
     "data": {
      "text/plain": [
       "3.0"
      ]
     },
     "execution_count": 9,
     "metadata": {},
     "output_type": "execute_result"
    }
   ],
   "source": [
    "12.0/4"
   ]
  },
  {
   "cell_type": "code",
   "execution_count": 10,
   "metadata": {},
   "outputs": [
    {
     "data": {
      "text/plain": [
       "3.0"
      ]
     },
     "execution_count": 10,
     "metadata": {},
     "output_type": "execute_result"
    }
   ],
   "source": [
    "12/4.0"
   ]
  },
  {
   "cell_type": "code",
   "execution_count": 11,
   "metadata": {},
   "outputs": [
    {
     "data": {
      "text/plain": [
       "3.0"
      ]
     },
     "execution_count": 11,
     "metadata": {},
     "output_type": "execute_result"
    }
   ],
   "source": [
    "12.0/4.0"
   ]
  },
  {
   "cell_type": "markdown",
   "metadata": {},
   "source": [
    "Python can also perform integer division:\n",
    "$\\lfloor a\\div b\\rfloor$ is written `a // b`. This always returns an `int`."
   ]
  },
  {
   "cell_type": "markdown",
   "metadata": {},
   "source": [
    "**Example:** Calculate $\\lfloor 12\\div 4 \\rfloor$."
   ]
  },
  {
   "cell_type": "code",
   "execution_count": 12,
   "metadata": {},
   "outputs": [
    {
     "data": {
      "text/plain": [
       "3"
      ]
     },
     "execution_count": 12,
     "metadata": {},
     "output_type": "execute_result"
    }
   ],
   "source": [
    "12//4"
   ]
  },
  {
   "cell_type": "markdown",
   "metadata": {},
   "source": [
    "**Example:** Calculate $\\lfloor 13\\div 4 \\rfloor$."
   ]
  },
  {
   "cell_type": "code",
   "execution_count": 13,
   "metadata": {},
   "outputs": [
    {
     "data": {
      "text/plain": [
       "3"
      ]
     },
     "execution_count": 13,
     "metadata": {},
     "output_type": "execute_result"
    }
   ],
   "source": [
    "13//4"
   ]
  },
  {
   "cell_type": "markdown",
   "metadata": {},
   "source": [
    "**Example:** Calculate $2^3$ &mdash; using `**`, **not** `^`."
   ]
  },
  {
   "cell_type": "code",
   "execution_count": 14,
   "metadata": {},
   "outputs": [
    {
     "data": {
      "text/plain": [
       "3"
      ]
     },
     "execution_count": 14,
     "metadata": {},
     "output_type": "execute_result"
    }
   ],
   "source": [
    "2^1"
   ]
  },
  {
   "cell_type": "code",
   "execution_count": 15,
   "metadata": {},
   "outputs": [
    {
     "data": {
      "text/plain": [
       "8"
      ]
     },
     "execution_count": 15,
     "metadata": {},
     "output_type": "execute_result"
    }
   ],
   "source": [
    "2**3"
   ]
  },
  {
   "cell_type": "markdown",
   "metadata": {},
   "source": [
    "**Example:** Calculate $13\\bmod 4$."
   ]
  },
  {
   "cell_type": "code",
   "execution_count": 16,
   "metadata": {},
   "outputs": [
    {
     "data": {
      "text/plain": [
       "1"
      ]
     },
     "execution_count": 16,
     "metadata": {},
     "output_type": "execute_result"
    }
   ],
   "source": [
    "13%4"
   ]
  },
  {
   "cell_type": "markdown",
   "metadata": {},
   "source": [
    "**Example:** Calculate $|-3|$."
   ]
  },
  {
   "cell_type": "code",
   "execution_count": 17,
   "metadata": {},
   "outputs": [
    {
     "data": {
      "text/plain": [
       "3"
      ]
     },
     "execution_count": 17,
     "metadata": {},
     "output_type": "execute_result"
    }
   ],
   "source": [
    "abs(-3)"
   ]
  },
  {
   "cell_type": "markdown",
   "metadata": {},
   "source": [
    "### Order of Operations\n",
    "\n",
    "The order of operations in python is the usual:\n",
    "1. Exponentiation.\n",
    "1. Multiplication/division.\n",
    "1. Addition/subtraction.\n",
    "\n",
    "**Example:** Calculate $1+2\\times 3^2$."
   ]
  },
  {
   "cell_type": "code",
   "execution_count": 18,
   "metadata": {},
   "outputs": [
    {
     "data": {
      "text/plain": [
       "19"
      ]
     },
     "execution_count": 18,
     "metadata": {},
     "output_type": "execute_result"
    }
   ],
   "source": [
    "1+2*3**2"
   ]
  },
  {
   "cell_type": "markdown",
   "metadata": {},
   "source": [
    "Parentheses can be used to alter the order of execution.\n",
    "\n",
    "**Example:** $1+2\\times 3^2$ is the same as $1+(2\\times 3^2)$, but $(1+2)\\times 3^2$ is the same as $3^3$."
   ]
  },
  {
   "cell_type": "code",
   "execution_count": 19,
   "metadata": {},
   "outputs": [
    {
     "data": {
      "text/plain": [
       "19"
      ]
     },
     "execution_count": 19,
     "metadata": {},
     "output_type": "execute_result"
    }
   ],
   "source": [
    "1+2*3**2"
   ]
  },
  {
   "cell_type": "code",
   "execution_count": 20,
   "metadata": {},
   "outputs": [
    {
     "data": {
      "text/plain": [
       "19"
      ]
     },
     "execution_count": 20,
     "metadata": {},
     "output_type": "execute_result"
    }
   ],
   "source": [
    "1+(2*3**2)"
   ]
  },
  {
   "cell_type": "code",
   "execution_count": 21,
   "metadata": {},
   "outputs": [
    {
     "data": {
      "text/plain": [
       "27"
      ]
     },
     "execution_count": 21,
     "metadata": {},
     "output_type": "execute_result"
    }
   ],
   "source": [
    "(1+2)*3**2"
   ]
  },
  {
   "cell_type": "markdown",
   "metadata": {},
   "source": [
    "## Arithmetic from Modules\n",
    "\n",
    "We can use *modules* to increase Python's functionality.\n",
    "\n",
    "### The `math` Module\n",
    "\n",
    "Modules are not available by default. Before we can use the `math` module, we have to *import* it. Evaluating `math` without importing the module first will throw an error &mdash; try it to see what errors look like. If you first run `import math`, the module then becomes available."
   ]
  },
  {
   "cell_type": "code",
   "execution_count": 22,
   "metadata": {},
   "outputs": [],
   "source": [
    "import math"
   ]
  },
  {
   "cell_type": "code",
   "execution_count": 23,
   "metadata": {},
   "outputs": [
    {
     "data": {
      "text/plain": [
       "<module 'math' (built-in)>"
      ]
     },
     "execution_count": 23,
     "metadata": {},
     "output_type": "execute_result"
    }
   ],
   "source": [
    "math"
   ]
  },
  {
   "cell_type": "markdown",
   "metadata": {},
   "source": [
    "#### Dot Notation\n",
    "\n",
    "To access a given tool of the `math` module we use the *dot notation*: `math.tool`. For instance, the `math` module includes mathematical constant $e$, which can be accessed using `math.e`."
   ]
  },
  {
   "cell_type": "code",
   "execution_count": 24,
   "metadata": {},
   "outputs": [
    {
     "data": {
      "text/plain": [
       "2.718281828459045"
      ]
     },
     "execution_count": 24,
     "metadata": {},
     "output_type": "execute_result"
    }
   ],
   "source": [
    "math.e"
   ]
  },
  {
   "cell_type": "markdown",
   "metadata": {},
   "source": [
    "**Example:** Evaluate $\\pi$ and $\\tau$."
   ]
  },
  {
   "cell_type": "code",
   "execution_count": 25,
   "metadata": {},
   "outputs": [
    {
     "data": {
      "text/plain": [
       "3.141592653589793"
      ]
     },
     "execution_count": 25,
     "metadata": {},
     "output_type": "execute_result"
    }
   ],
   "source": [
    "math.pi"
   ]
  },
  {
   "cell_type": "code",
   "execution_count": 26,
   "metadata": {},
   "outputs": [
    {
     "data": {
      "text/plain": [
       "6.283185307179586"
      ]
     },
     "execution_count": 26,
     "metadata": {},
     "output_type": "execute_result"
    }
   ],
   "source": [
    "math.tau"
   ]
  },
  {
   "cell_type": "markdown",
   "metadata": {},
   "source": [
    "#### Power Function\n",
    "\n",
    "The `math` module includes a power function, `math.pow`:"
   ]
  },
  {
   "cell_type": "code",
   "execution_count": 27,
   "metadata": {},
   "outputs": [
    {
     "data": {
      "text/plain": [
       "<function math.pow>"
      ]
     },
     "execution_count": 27,
     "metadata": {},
     "output_type": "execute_result"
    }
   ],
   "source": [
    "math.pow"
   ]
  },
  {
   "cell_type": "markdown",
   "metadata": {},
   "source": [
    "We can use the `help` function to find out how to use `math.pow`:"
   ]
  },
  {
   "cell_type": "code",
   "execution_count": 28,
   "metadata": {},
   "outputs": [
    {
     "name": "stdout",
     "output_type": "stream",
     "text": [
      "Help on built-in function pow in module math:\n",
      "\n",
      "pow(...)\n",
      "    pow(x, y)\n",
      "    \n",
      "    Return x**y (x to the power of y).\n",
      "\n"
     ]
    }
   ],
   "source": [
    "help(math.pow)"
   ]
  },
  {
   "cell_type": "markdown",
   "metadata": {},
   "source": [
    "**Example:** Calculate $2^3$ using `math.pow`."
   ]
  },
  {
   "cell_type": "code",
   "execution_count": 29,
   "metadata": {},
   "outputs": [
    {
     "data": {
      "text/plain": [
       "8.0"
      ]
     },
     "execution_count": 29,
     "metadata": {},
     "output_type": "execute_result"
    }
   ],
   "source": [
    "math.pow(2,3)"
   ]
  },
  {
   "cell_type": "markdown",
   "metadata": {},
   "source": [
    "The `math.pow` function is not the same as the `**` operator, but the differences are only technical. For instance, `**` sometimes returns an `int`, whereas `math.pow` always returns a `float`."
   ]
  },
  {
   "cell_type": "code",
   "execution_count": 30,
   "metadata": {},
   "outputs": [
    {
     "data": {
      "text/plain": [
       "8"
      ]
     },
     "execution_count": 30,
     "metadata": {},
     "output_type": "execute_result"
    }
   ],
   "source": [
    "2**3"
   ]
  },
  {
   "cell_type": "code",
   "execution_count": 31,
   "metadata": {},
   "outputs": [
    {
     "data": {
      "text/plain": [
       "8.0"
      ]
     },
     "execution_count": 31,
     "metadata": {},
     "output_type": "execute_result"
    }
   ],
   "source": [
    "math.pow(2,3)"
   ]
  },
  {
   "cell_type": "markdown",
   "metadata": {},
   "source": [
    "However, both functions agree numerically."
   ]
  },
  {
   "cell_type": "code",
   "execution_count": 32,
   "metadata": {},
   "outputs": [
    {
     "data": {
      "text/plain": [
       "1.4142135623730951"
      ]
     },
     "execution_count": 32,
     "metadata": {},
     "output_type": "execute_result"
    }
   ],
   "source": [
    "2**0.5"
   ]
  },
  {
   "cell_type": "code",
   "execution_count": 33,
   "metadata": {},
   "outputs": [
    {
     "data": {
      "text/plain": [
       "1.4142135623730951"
      ]
     },
     "execution_count": 33,
     "metadata": {},
     "output_type": "execute_result"
    }
   ],
   "source": [
    "math.pow(2,0.5)"
   ]
  },
  {
   "cell_type": "code",
   "execution_count": 34,
   "metadata": {},
   "outputs": [
    {
     "data": {
      "text/plain": [
       "0.0"
      ]
     },
     "execution_count": 34,
     "metadata": {},
     "output_type": "execute_result"
    }
   ],
   "source": [
    "(2**0.5) - (math.pow(2,0.5))"
   ]
  },
  {
   "cell_type": "markdown",
   "metadata": {},
   "source": [
    "#### Other Useful Functions\n",
    "\n",
    "- *Square root*: `math.sqrt`.\n",
    "\n",
    "**Example:** Calculate $\\sqrt{2}$."
   ]
  },
  {
   "cell_type": "code",
   "execution_count": 35,
   "metadata": {},
   "outputs": [
    {
     "data": {
      "text/plain": [
       "1.4142135623730951"
      ]
     },
     "execution_count": 35,
     "metadata": {},
     "output_type": "execute_result"
    }
   ],
   "source": [
    "math.sqrt(2)"
   ]
  },
  {
   "cell_type": "markdown",
   "metadata": {},
   "source": [
    "- *Exponential*: `math.exp`.\n",
    "\n",
    "**Example:** Calculate $\\exp(0)$ and $\\exp(1)$."
   ]
  },
  {
   "cell_type": "code",
   "execution_count": 36,
   "metadata": {},
   "outputs": [
    {
     "data": {
      "text/plain": [
       "1.0"
      ]
     },
     "execution_count": 36,
     "metadata": {},
     "output_type": "execute_result"
    }
   ],
   "source": [
    "math.exp(0)"
   ]
  },
  {
   "cell_type": "code",
   "execution_count": 37,
   "metadata": {},
   "outputs": [
    {
     "data": {
      "text/plain": [
       "2.718281828459045"
      ]
     },
     "execution_count": 37,
     "metadata": {},
     "output_type": "execute_result"
    }
   ],
   "source": [
    "math.exp(1)"
   ]
  },
  {
   "cell_type": "markdown",
   "metadata": {},
   "source": [
    "- *Logarithm*: `math.log`.\n",
    " - In base $2$: `math.log2`.\n",
    " - In base $10$: `math.log10`.\n",
    "\n",
    "**Example:** Calculate $\\log(1)$, $\\log_2(8)$ and $\\log_{10}(100)$."
   ]
  },
  {
   "cell_type": "code",
   "execution_count": 38,
   "metadata": {},
   "outputs": [
    {
     "data": {
      "text/plain": [
       "0.0"
      ]
     },
     "execution_count": 38,
     "metadata": {},
     "output_type": "execute_result"
    }
   ],
   "source": [
    "math.log(1)"
   ]
  },
  {
   "cell_type": "code",
   "execution_count": 39,
   "metadata": {},
   "outputs": [
    {
     "data": {
      "text/plain": [
       "3.0"
      ]
     },
     "execution_count": 39,
     "metadata": {},
     "output_type": "execute_result"
    }
   ],
   "source": [
    "math.log2(8)"
   ]
  },
  {
   "cell_type": "code",
   "execution_count": 40,
   "metadata": {},
   "outputs": [
    {
     "data": {
      "text/plain": [
       "2.0"
      ]
     },
     "execution_count": 40,
     "metadata": {},
     "output_type": "execute_result"
    }
   ],
   "source": [
    "math.log10(100)"
   ]
  },
  {
   "cell_type": "markdown",
   "metadata": {},
   "source": [
    "**Example:** Check that `math.exp` and `math.log` are inverses by evaluating $\\log(\\exp(42))$ and $\\exp(\\log(42))$."
   ]
  },
  {
   "cell_type": "code",
   "execution_count": 41,
   "metadata": {},
   "outputs": [
    {
     "data": {
      "text/plain": [
       "42.0"
      ]
     },
     "execution_count": 41,
     "metadata": {},
     "output_type": "execute_result"
    }
   ],
   "source": [
    "math.log(math.exp(42))"
   ]
  },
  {
   "cell_type": "code",
   "execution_count": 42,
   "metadata": {},
   "outputs": [
    {
     "data": {
      "text/plain": [
       "42.00000000000001"
      ]
     },
     "execution_count": 42,
     "metadata": {},
     "output_type": "execute_result"
    }
   ],
   "source": [
    "math.exp(math.log(42))"
   ]
  },
  {
   "cell_type": "markdown",
   "metadata": {},
   "source": [
    "And so the jig is up! `math.exp(math.log(42))` does not return *exactly* 42. There is some error:"
   ]
  },
  {
   "cell_type": "code",
   "execution_count": 43,
   "metadata": {},
   "outputs": [
    {
     "data": {
      "text/plain": [
       "7.105427357601002e-15"
      ]
     },
     "execution_count": 43,
     "metadata": {},
     "output_type": "execute_result"
    }
   ],
   "source": [
    "math.exp(math.log(42))-42"
   ]
  },
  {
   "cell_type": "markdown",
   "metadata": {},
   "source": [
    "Computers cannot in general store numbers with full accuracy. A *typical* real number is irrational, which means it has an infinite, non-periodic decimal expansion. For instance:\n",
    "$$\\pi=3.1415926535897932384626433832795028841971693993751058209749445923078164062\\ldots$$\n",
    "Due to finite memory and finite processing power, computers have to truncate such numbers:"
   ]
  },
  {
   "cell_type": "code",
   "execution_count": 44,
   "metadata": {},
   "outputs": [
    {
     "data": {
      "text/plain": [
       "3.141592653589793"
      ]
     },
     "execution_count": 44,
     "metadata": {},
     "output_type": "execute_result"
    }
   ],
   "source": [
    "math.pi"
   ]
  },
  {
   "cell_type": "markdown",
   "metadata": {},
   "source": [
    "$$\\pi\\simeq 3.141592653589793.$$\n",
    "Truncation errors can appear every now and then, and you should keep an eye out of them!"
   ]
  },
  {
   "cell_type": "markdown",
   "metadata": {},
   "source": [
    "## The Babylonian Square Root\n",
    "\n",
    "The ancient Babylonians knew a pretty good method to compute square roots by hand. We are going to implement our own square root function using this method.\n",
    "\n",
    "### The Algorithm\n",
    "Suppose we want to estimate $r$, the square root of a given number $s=r^2$. The Babylonians gave us the following recipe:\n",
    "\n",
    "- Take an initial guess for $r$, call it $x_0$. \n",
    "- Compute the update $x_{n+1}$ from the previous step $x_n$ using the rule:\n",
    "$$x_{n+1}=\\frac{x_n+\\frac{s}{x_n}}{2}.$$\n",
    "- Repeat until you're bored &mdash; or until enough decimal places of $x_n$ remain the same between updates.\n",
    "\n",
    "### Is this Magic?\n",
    "Can you think of a reason why this works at all? What happens if $x_n$ is not just an estimate, but actually equal to $r$?\n",
    "\n",
    "### The Implementation\n",
    "We can do this in Python of course! We can try to compute the square root of 2. First, we need an initial guess $x_0$; $x_0=1.5$ is clearly wrong but it is close enough for a start. We need a way to store it, and we can use a *variable* for that.\n",
    "\n",
    "Executing `x0 = 1.5` will create a variable called `x0` and store the value `1.5` in it."
   ]
  },
  {
   "cell_type": "code",
   "execution_count": 45,
   "metadata": {},
   "outputs": [],
   "source": [
    "x0=1.5"
   ]
  },
  {
   "cell_type": "markdown",
   "metadata": {},
   "source": [
    "We can now call the variable to retrieve the value."
   ]
  },
  {
   "cell_type": "code",
   "execution_count": 46,
   "metadata": {},
   "outputs": [
    {
     "data": {
      "text/plain": [
       "1.5"
      ]
     },
     "execution_count": 46,
     "metadata": {},
     "output_type": "execute_result"
    }
   ],
   "source": [
    "x0"
   ]
  },
  {
   "cell_type": "markdown",
   "metadata": {},
   "source": [
    "This should remind you of executing `math.pi` &mdash; there, the variable had already been created for us.\n",
    "\n",
    "We can also store $s=2$,"
   ]
  },
  {
   "cell_type": "code",
   "execution_count": 47,
   "metadata": {},
   "outputs": [],
   "source": [
    "s=2"
   ]
  },
  {
   "cell_type": "markdown",
   "metadata": {},
   "source": [
    "and, even though this is cheating, we can store the value of $r$ too and use to check our method works."
   ]
  },
  {
   "cell_type": "code",
   "execution_count": 48,
   "metadata": {},
   "outputs": [],
   "source": [
    "r=math.sqrt(2)"
   ]
  },
  {
   "cell_type": "markdown",
   "metadata": {},
   "source": [
    "We can check the value stored in the variable using the function `print` as well."
   ]
  },
  {
   "cell_type": "code",
   "execution_count": 49,
   "metadata": {},
   "outputs": [
    {
     "name": "stdout",
     "output_type": "stream",
     "text": [
      "1.4142135623730951\n"
     ]
    }
   ],
   "source": [
    "print(r)"
   ]
  },
  {
   "cell_type": "markdown",
   "metadata": {},
   "source": [
    "The steps are clear now. $x_1$:"
   ]
  },
  {
   "cell_type": "code",
   "execution_count": 50,
   "metadata": {},
   "outputs": [],
   "source": [
    "x1=(x0+s/x0)/2"
   ]
  },
  {
   "cell_type": "code",
   "execution_count": 51,
   "metadata": {},
   "outputs": [
    {
     "name": "stdout",
     "output_type": "stream",
     "text": [
      "1.4166666666666665 0.002453104293571373\n"
     ]
    }
   ],
   "source": [
    "print(x1, abs(r-x1))"
   ]
  },
  {
   "cell_type": "markdown",
   "metadata": {},
   "source": [
    "Then, $x_2$:"
   ]
  },
  {
   "cell_type": "code",
   "execution_count": 52,
   "metadata": {},
   "outputs": [],
   "source": [
    "x2=(x1+s/x1)/2"
   ]
  },
  {
   "cell_type": "code",
   "execution_count": 53,
   "metadata": {},
   "outputs": [
    {
     "name": "stdout",
     "output_type": "stream",
     "text": [
      "1.4142156862745097 2.123901414519125e-06\n"
     ]
    }
   ],
   "source": [
    "print(x2, abs(r-x2))"
   ]
  },
  {
   "cell_type": "markdown",
   "metadata": {},
   "source": [
    "Then, $x_3$:"
   ]
  },
  {
   "cell_type": "code",
   "execution_count": 54,
   "metadata": {},
   "outputs": [],
   "source": [
    "x3=(x2+s/x2)/2"
   ]
  },
  {
   "cell_type": "code",
   "execution_count": 55,
   "metadata": {},
   "outputs": [
    {
     "name": "stdout",
     "output_type": "stream",
     "text": [
      "1.4142135623746899 1.5947243525715749e-12\n"
     ]
    }
   ],
   "source": [
    "print(x3, abs(r-x3))"
   ]
  },
  {
   "cell_type": "markdown",
   "metadata": {},
   "source": [
    "### Looping\n",
    "This is clearly not optimal! We need to execute a command that can be recycled for every step. Instead of storing each $x_n$, why not have a single variable `x` that changes with each update? If we initialise the variables:"
   ]
  },
  {
   "cell_type": "code",
   "execution_count": 56,
   "metadata": {},
   "outputs": [],
   "source": [
    "r=math.sqrt(2)\n",
    "s=r*r\n",
    "x=1.5"
   ]
  },
  {
   "cell_type": "markdown",
   "metadata": {},
   "source": [
    "The code that repeats each time is just:"
   ]
  },
  {
   "cell_type": "code",
   "execution_count": 57,
   "metadata": {},
   "outputs": [
    {
     "name": "stdout",
     "output_type": "stream",
     "text": [
      "1.416666666666667 0.0024531042935718173\n"
     ]
    }
   ],
   "source": [
    "xNext=(x+s/x)/2\n",
    "x=xNext\n",
    "\n",
    "print(x, abs(r-x))"
   ]
  },
  {
   "cell_type": "markdown",
   "metadata": {},
   "source": [
    "Try executing the cell above several times to see how the algorithm converges. You can also try different values of $r$.\n",
    "\n",
    "This is nice, but we would like the repetition process to be fully automatic. We need a way of telling Python to repeat some code several times. For this, we can use a `for` loop."
   ]
  },
  {
   "cell_type": "code",
   "execution_count": 58,
   "metadata": {},
   "outputs": [
    {
     "name": "stdout",
     "output_type": "stream",
     "text": [
      "0\n",
      "1\n",
      "2\n"
     ]
    }
   ],
   "source": [
    "for k in range(0, 3):\n",
    "    print(k)"
   ]
  },
  {
   "cell_type": "markdown",
   "metadata": {},
   "source": [
    "The code above is a `for` loop. The notation is very short and tidy, but there are several things to notice:\n",
    "- The `for` loop executes the code inside it (`print(k)`) several times.\n",
    "- The code inside the loop comes after the colon (`:`) and is **indented** with the `tab` key.\n",
    "- The function `range(0,3)` produces a list of numbers from `0` up to, but not including, `3`.\n",
    "- The variable `k` takes a different value each time the code runs. The values are determined by whatever comes after the `in` keyword.\n",
    "\n",
    "We do not need to use `range` to make a for loop; instead we can make our own list by putting numbers inside square brackets, separated by commas: `[a,b,c,d]`"
   ]
  },
  {
   "cell_type": "code",
   "execution_count": 59,
   "metadata": {},
   "outputs": [
    {
     "name": "stdout",
     "output_type": "stream",
     "text": [
      "1\n",
      "2\n",
      "5\n",
      "14\n"
     ]
    }
   ],
   "source": [
    "for k in [1,2,5,14]:\n",
    "    print(k)"
   ]
  },
  {
   "cell_type": "markdown",
   "metadata": {},
   "source": [
    "Why not put the Babylonian root algorithm inside a loop? Try computing the square root of `math.pi`, using a loop that iterates $10$ times."
   ]
  },
  {
   "cell_type": "code",
   "execution_count": 60,
   "metadata": {},
   "outputs": [
    {
     "name": "stdout",
     "output_type": "stream",
     "text": [
      "2.0707963267948966\n",
      "1.7939451563922244\n",
      "1.772582582882042\n",
      "1.7724538555800293\n",
      "1.7724538509055159\n",
      "1.7724538509055159\n",
      "1.7724538509055159\n",
      "1.7724538509055159\n",
      "1.7724538509055159\n",
      "1.7724538509055159\n"
     ]
    }
   ],
   "source": [
    "s=math.pi\n",
    "x=s\n",
    "\n",
    "for k in range(0,10):\n",
    "    xNext=(x+s/x)/2\n",
    "    x=xNext\n",
    "    print(x)"
   ]
  },
  {
   "cell_type": "markdown",
   "metadata": {},
   "source": [
    "Now try the root of `1000*math.pi`, using the same loop."
   ]
  },
  {
   "cell_type": "code",
   "execution_count": 61,
   "metadata": {},
   "outputs": [
    {
     "name": "stdout",
     "output_type": "stream",
     "text": [
      "1571.2963267948965\n",
      "786.647845188851\n",
      "395.3207453613115\n",
      "201.63384572811555\n",
      "108.60726342480356\n",
      "68.76671896146472\n",
      "57.22575112770238\n",
      "56.061992365998165\n",
      "56.04991346549636\n",
      "56.0499121639793\n"
     ]
    }
   ],
   "source": [
    "s=math.pi*1000\n",
    "x=s\n",
    "\n",
    "for k in range(0,10):\n",
    "    xNext=(x+s/x)/2\n",
    "    x=xNext\n",
    "    print(x)"
   ]
  },
  {
   "cell_type": "markdown",
   "metadata": {},
   "source": [
    "We need more iterations. We will have to run the code again, this time changing the loop to `range(0,20)`."
   ]
  },
  {
   "cell_type": "code",
   "execution_count": 62,
   "metadata": {},
   "outputs": [
    {
     "name": "stdout",
     "output_type": "stream",
     "text": [
      "1571.2963267948965\n",
      "786.647845188851\n",
      "395.3207453613115\n",
      "201.63384572811555\n",
      "108.60726342480356\n",
      "68.76671896146472\n",
      "57.22575112770238\n",
      "56.061992365998165\n",
      "56.04991346549636\n",
      "56.0499121639793\n",
      "56.049912163979286\n",
      "56.049912163979286\n",
      "56.049912163979286\n",
      "56.049912163979286\n",
      "56.049912163979286\n",
      "56.049912163979286\n",
      "56.049912163979286\n",
      "56.049912163979286\n",
      "56.049912163979286\n",
      "56.049912163979286\n"
     ]
    }
   ],
   "source": [
    "s=math.pi*1000\n",
    "x=s\n",
    "\n",
    "for k in range(0,20):\n",
    "    xNext=(x+s/x)/2\n",
    "    x=xNext\n",
    "    print(x)"
   ]
  },
  {
   "cell_type": "markdown",
   "metadata": {},
   "source": [
    "### Functions\n",
    "Having to copy and paste code all over the place is also far from ideal. Ultimately we are always running the same code, just changing the argument of the square root or the number of iterations. The rest of the code could and should be recycled.\n",
    "\n",
    "In order to recycle code, we can put it inside a function."
   ]
  },
  {
   "cell_type": "code",
   "execution_count": 63,
   "metadata": {},
   "outputs": [],
   "source": [
    "def my_function():\n",
    "  print(\"This is a function\")"
   ]
  },
  {
   "cell_type": "markdown",
   "metadata": {},
   "source": [
    "This defines `my_function`. The code after the colon (`:`) is indented like in a `for` loop, and will run every time the function is called. We have only defined the function above; in order to run it, we have to call the function by executing `my_function()`."
   ]
  },
  {
   "cell_type": "code",
   "execution_count": 64,
   "metadata": {},
   "outputs": [
    {
     "name": "stdout",
     "output_type": "stream",
     "text": [
      "This is a function\n"
     ]
    }
   ],
   "source": [
    "my_function()"
   ]
  },
  {
   "cell_type": "markdown",
   "metadata": {},
   "source": [
    "A function can take an *argument* and can also *return* a value at the end. For instance, we can write a function that doubles a number:"
   ]
  },
  {
   "cell_type": "code",
   "execution_count": 65,
   "metadata": {},
   "outputs": [],
   "source": [
    "def times_two(x):\n",
    "    return 2*x"
   ]
  },
  {
   "cell_type": "markdown",
   "metadata": {},
   "source": [
    "Try using the function to compute $2\\pi$."
   ]
  },
  {
   "cell_type": "code",
   "execution_count": 66,
   "metadata": {},
   "outputs": [
    {
     "data": {
      "text/plain": [
       "6.283185307179586"
      ]
     },
     "execution_count": 66,
     "metadata": {},
     "output_type": "execute_result"
    }
   ],
   "source": [
    "times_two(math.pi)"
   ]
  },
  {
   "cell_type": "markdown",
   "metadata": {},
   "source": [
    "A function can also take more than one argument. We can write an average function:"
   ]
  },
  {
   "cell_type": "code",
   "execution_count": 67,
   "metadata": {},
   "outputs": [],
   "source": [
    "def average(a,b):\n",
    "    return (a+b)/2"
   ]
  },
  {
   "cell_type": "markdown",
   "metadata": {},
   "source": [
    "Try to compute the average of $5$ and $7$."
   ]
  },
  {
   "cell_type": "code",
   "execution_count": 68,
   "metadata": {},
   "outputs": [
    {
     "data": {
      "text/plain": [
       "6.0"
      ]
     },
     "execution_count": 68,
     "metadata": {},
     "output_type": "execute_result"
    }
   ],
   "source": [
    "average(5,7)"
   ]
  },
  {
   "cell_type": "markdown",
   "metadata": {},
   "source": [
    "These examples are not very useful, but we can certainly put the Babylonian code inside a function, and we can even print the difference between `x` and `xNext` at every step."
   ]
  },
  {
   "cell_type": "code",
   "execution_count": 69,
   "metadata": {},
   "outputs": [],
   "source": [
    "def babylonianRoot(s, n):\n",
    "    x=s\n",
    "    \n",
    "    for k in range(0,n):\n",
    "        xNext=(x+s/x)/2\n",
    "        print(\"Difference: \"+str(abs(xNext-x)))\n",
    "        x=xNext\n",
    "    \n",
    "    return x"
   ]
  },
  {
   "cell_type": "code",
   "execution_count": 70,
   "metadata": {},
   "outputs": [
    {
     "name": "stdout",
     "output_type": "stream",
     "text": [
      "Difference: 1570.2963267948965\n",
      "Difference: 784.6484816060455\n",
      "Difference: 391.3270998275395\n",
      "Difference: 193.68689963319594\n",
      "Difference: 93.02658230331198\n",
      "Difference: 39.840544463338844\n",
      "Difference: 11.540967833762338\n",
      "Difference: 1.1637587617042158\n",
      "Difference: 0.012078900501805379\n",
      "Difference: 1.3015170594599113e-06\n",
      "Difference: 1.4210854715202004e-14\n",
      "Difference: 0.0\n",
      "Difference: 0.0\n",
      "Difference: 0.0\n",
      "Difference: 0.0\n",
      "Difference: 0.0\n",
      "Difference: 0.0\n",
      "Difference: 0.0\n",
      "Difference: 0.0\n",
      "Difference: 0.0\n"
     ]
    },
    {
     "data": {
      "text/plain": [
       "56.049912163979286"
      ]
     },
     "execution_count": 70,
     "metadata": {},
     "output_type": "execute_result"
    }
   ],
   "source": [
    "babylonianRoot(math.pi*1000,20)"
   ]
  },
  {
   "cell_type": "markdown",
   "metadata": {},
   "source": [
    "### Conditionals\n",
    "Would it not be nice if we could stop the looping once the difference becomes zero?\n",
    "\n",
    "We can use a *conditional* to ask the program a question at each iteration. For instance, given a number, we can check whether it is even or odd. For this we use an `if` statement."
   ]
  },
  {
   "cell_type": "code",
   "execution_count": 71,
   "metadata": {},
   "outputs": [
    {
     "name": "stdout",
     "output_type": "stream",
     "text": [
      "Even\n"
     ]
    }
   ],
   "source": [
    "x = 2\n",
    "if (x%2)==0:\n",
    "    print(\"Even\")\n",
    "else:\n",
    "    print(\"Odd\")"
   ]
  },
  {
   "cell_type": "markdown",
   "metadata": {},
   "source": [
    "The `if` statement checks whether a condition (the code after the `if` and before the `:`) is `true`. If it is `true`, it will execute the code after the `:`. If it is `false`, it will instead execute the code after `else:`. Make sure to have the correct indentation!\n",
    "\n",
    "\n",
    "Note the symbol `==`. This is different from the `=` we have used before. A double equal asks whether two expressions have exactly the same value. Running `x=5` **assigns** the value `5` to the variable `x`; running `x==5` **checks** whether the value of `x` is equal to `5`.\n",
    "\n",
    "We can use other comparatives, such as **less than** (`<`), **greater than** (`>`), **less than or equal to** (`<=`) or **greater than or equal to** (`>=`) to check if a number is positive or negative."
   ]
  },
  {
   "cell_type": "code",
   "execution_count": 72,
   "metadata": {},
   "outputs": [
    {
     "name": "stdout",
     "output_type": "stream",
     "text": [
      "Negative\n"
     ]
    }
   ],
   "source": [
    "x = -1\n",
    "if x<0:\n",
    "    print(\"Negative\")\n",
    "else:\n",
    "    print(\"Positive\")"
   ]
  },
  {
   "cell_type": "markdown",
   "metadata": {},
   "source": [
    "Now we are ready to rewrite `babylonianRoot`; this time the function should only take one argument, `s`. We will start the `for` loop with a large number of iterations but check whether the difference is zero at every step, and stop when it is."
   ]
  },
  {
   "cell_type": "code",
   "execution_count": 73,
   "metadata": {},
   "outputs": [],
   "source": [
    "def babylonianRoot(s):\n",
    "    x=s\n",
    "    \n",
    "    for k in range(0,10000):\n",
    "        xNext=(x+s/x)/2\n",
    "        difference = abs(xNext-x)\n",
    "        print(\"Difference: \"+str(difference))\n",
    "        if difference==0:\n",
    "            break\n",
    "                    \n",
    "        x=xNext\n",
    "    \n",
    "    return x"
   ]
  },
  {
   "cell_type": "code",
   "execution_count": 74,
   "metadata": {},
   "outputs": [
    {
     "name": "stdout",
     "output_type": "stream",
     "text": [
      "Difference: 1.0707963267948966\n",
      "Difference: 0.27685117040267215\n",
      "Difference: 0.021362573510182337\n",
      "Difference: 0.0001287273020127433\n",
      "Difference: 4.674513442992634e-09\n",
      "Difference: 0.0\n"
     ]
    },
    {
     "data": {
      "text/plain": [
       "1.7724538509055159"
      ]
     },
     "execution_count": 74,
     "metadata": {},
     "output_type": "execute_result"
    }
   ],
   "source": [
    "babylonianRoot(math.pi)"
   ]
  },
  {
   "cell_type": "code",
   "execution_count": 75,
   "metadata": {},
   "outputs": [
    {
     "name": "stdout",
     "output_type": "stream",
     "text": [
      "Difference: 156.57963267948966\n",
      "Difference: 77.79298933863751\n",
      "Difference: 37.924575698641824\n",
      "Difference: 17.178719577527207\n",
      "Difference: 5.977884473977763\n",
      "Difference: 0.955204948835938\n",
      "Difference: 0.02570149857220727\n",
      "Difference: 1.8634232255010375e-05\n",
      "Difference: 9.798384326131782e-12\n",
      "Difference: 0.0\n"
     ]
    },
    {
     "data": {
      "text/plain": [
       "17.724538509055158"
      ]
     },
     "execution_count": 75,
     "metadata": {},
     "output_type": "execute_result"
    }
   ],
   "source": [
    "babylonianRoot(math.pi*100)"
   ]
  },
  {
   "cell_type": "markdown",
   "metadata": {},
   "source": [
    "## Beyond Mesopotamia\n",
    "We now have essentially all the basic tools for computation. Any algorithm can be implemented using the tools described above.\n",
    "\n",
    "### Solving an Equation, Babylon Style!\n",
    "Here is a challenge. Write a function that returns the solution to the equation\n",
    "$$\\cos(x)=x.$$\n",
    "**Hint:** You can borrow a powerful idea from the Babylonians."
   ]
  },
  {
   "cell_type": "code",
   "execution_count": null,
   "metadata": {},
   "outputs": [],
   "source": []
  },
  {
   "cell_type": "markdown",
   "metadata": {},
   "source": [
    "If that was too easy for you, try solving this instead:$$\\sin(x)=x.$$ What goes wrong here?"
   ]
  },
  {
   "cell_type": "code",
   "execution_count": null,
   "metadata": {},
   "outputs": [],
   "source": []
  },
  {
   "cell_type": "markdown",
   "metadata": {},
   "source": [
    "### Ancient Greece\n",
    "Euclid knew a nifty algorithm to quickly find the greatest common divisor (CGD) of two positive integers $a$ and $b$; that is the largest integer $c$ such that $a\\div c$ and $b\\div c$ are both integers. You can find the algorithm everywhere, even [wikipedia](https://en.wikipedia.org/wiki/Euclidean_algorithm).\n",
    "\n",
    "Try to write your own `gcd` function. Test it against `math.gcd` to make sure it works!\n"
   ]
  },
  {
   "cell_type": "code",
   "execution_count": null,
   "metadata": {},
   "outputs": [],
   "source": []
  },
  {
   "cell_type": "code",
   "execution_count": null,
   "metadata": {},
   "outputs": [],
   "source": []
  }
 ],
 "metadata": {
  "kernelspec": {
   "display_name": "Python 3",
   "language": "python",
   "name": "python3"
  },
  "language_info": {
   "codemirror_mode": {
    "name": "ipython",
    "version": 3
   },
   "file_extension": ".py",
   "mimetype": "text/x-python",
   "name": "python",
   "nbconvert_exporter": "python",
   "pygments_lexer": "ipython3",
   "version": "3.6.7"
  }
 },
 "nbformat": 4,
 "nbformat_minor": 2
}
